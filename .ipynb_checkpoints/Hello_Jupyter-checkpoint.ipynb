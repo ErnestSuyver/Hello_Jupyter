{
 "cells": [
  {
   "cell_type": "markdown",
   "id": "1cda39f9",
   "metadata": {},
   "source": [
    "# good afternoon"
   ]
  },
  {
   "cell_type": "code",
   "execution_count": 1,
   "id": "085b58cb",
   "metadata": {},
   "outputs": [
    {
     "name": "stdout",
     "output_type": "stream",
     "text": [
      "Hello Jupyter!\n"
     ]
    }
   ],
   "source": [
    "print('Hello Jupyter!')"
   ]
  },
  {
   "cell_type": "markdown",
   "id": "76a41bcf",
   "metadata": {},
   "source": [
    "<p>hallootjes</p>"
   ]
  },
  {
   "cell_type": "code",
   "execution_count": 2,
   "id": "0b6b13f3",
   "metadata": {},
   "outputs": [
    {
     "data": {
      "text/plain": [
       "4"
      ]
     },
     "execution_count": 2,
     "metadata": {},
     "output_type": "execute_result"
    }
   ],
   "source": [
    "2*2"
   ]
  },
  {
   "cell_type": "code",
   "execution_count": 7,
   "id": "38db338d",
   "metadata": {},
   "outputs": [
    {
     "name": "stdout",
     "output_type": "stream",
     "text": [
      "pindakaas\n"
     ]
    }
   ],
   "source": [
    "if 8 == 9:\n",
    "    print(\"wut?!\"),\n",
    "else:\n",
    "    print(\"pindakaas\")"
   ]
  },
  {
   "cell_type": "markdown",
   "id": "8a83a02d",
   "metadata": {},
   "source": [
    "groeten uit **Leiden** "
   ]
  },
  {
   "cell_type": "code",
   "execution_count": 1,
   "id": "a04248b0",
   "metadata": {},
   "outputs": [
    {
     "data": {
      "text/plain": [
       "0.5"
      ]
     },
     "execution_count": 1,
     "metadata": {},
     "output_type": "execute_result"
    }
   ],
   "source": [
    "2/4"
   ]
  },
  {
   "cell_type": "code",
   "execution_count": 2,
   "id": "c37f0869",
   "metadata": {},
   "outputs": [
    {
     "data": {
      "text/plain": [
       "7"
      ]
     },
     "execution_count": 2,
     "metadata": {},
     "output_type": "execute_result"
    }
   ],
   "source": [
    "2+5"
   ]
  },
  {
   "cell_type": "markdown",
   "id": "9b2f6aeb",
   "metadata": {},
   "source": [
    "Het is weer mooi geweest"
   ]
  }
 ],
 "metadata": {
  "kernelspec": {
   "display_name": "Python 3 (ipykernel)",
   "language": "python",
   "name": "python3"
  },
  "language_info": {
   "codemirror_mode": {
    "name": "ipython",
    "version": 3
   },
   "file_extension": ".py",
   "mimetype": "text/x-python",
   "name": "python",
   "nbconvert_exporter": "python",
   "pygments_lexer": "ipython3",
   "version": "3.11.0"
  }
 },
 "nbformat": 4,
 "nbformat_minor": 5
}
