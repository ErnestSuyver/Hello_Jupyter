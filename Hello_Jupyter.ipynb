{
 "cells": [
  {
   "cell_type": "markdown",
   "id": "1cda39f9",
   "metadata": {},
   "source": [
    "# good afternoon"
   ]
  },
  {
   "cell_type": "code",
   "execution_count": 1,
   "id": "085b58cb",
   "metadata": {},
   "outputs": [
    {
     "name": "stdout",
     "output_type": "stream",
     "text": [
      "Hello Jupyter!\n"
     ]
    }
   ],
   "source": [
    "print('Hello Jupyter!')"
   ]
  },
  {
   "cell_type": "markdown",
   "id": "76a41bcf",
   "metadata": {},
   "source": [
    "<p>hallootjes</p>"
   ]
  },
  {
   "cell_type": "code",
   "execution_count": null,
   "id": "0b6b13f3",
   "metadata": {},
   "outputs": [],
   "source": []
  }
 ],
 "metadata": {
  "kernelspec": {
   "display_name": "Python 3 (ipykernel)",
   "language": "python",
   "name": "python3"
  },
  "language_info": {
   "codemirror_mode": {
    "name": "ipython",
    "version": 3
   },
   "file_extension": ".py",
   "mimetype": "text/x-python",
   "name": "python",
   "nbconvert_exporter": "python",
   "pygments_lexer": "ipython3",
   "version": "3.11.0"
  }
 },
 "nbformat": 4,
 "nbformat_minor": 5
}
